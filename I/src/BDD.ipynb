{
 "cells": [
  {
   "cell_type": "code",
   "execution_count": 1,
   "metadata": {},
   "outputs": [],
   "source": [
    "from pyeda.inter import *\n",
    "\n",
    "sys.path.append('../tools/gvmagic/')\n",
    "import gvmagic\n",
    "%load_ext gvmagic"
   ]
  },
  {
   "cell_type": "code",
   "execution_count": 2,
   "metadata": {},
   "outputs": [],
   "source": [
    "s, e = map(bddvar, 'se')"
   ]
  },
  {
   "cell_type": "code",
   "execution_count": 3,
   "metadata": {},
   "outputs": [],
   "source": []
  },
  {
   "cell_type": "code",
   "execution_count": 4,
   "metadata": {},
   "outputs": [
    {
     "data": {
      "image/svg+xml": "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\n"
     },
     "metadata": {},
     "output_type": "display_data"
    }
   ],
   "source": []
  },
  {
   "cell_type": "code",
   "execution_count": 5,
   "metadata": {},
   "outputs": [
    {
     "data": {
      "text/plain": [
       "'graph BDD { n140000160424784 [label=0,shape=box]; n140000160427472 [label=1,shape=box]; n140000574132656 [label=\"c\",shape=circle]; n140000574133616 [label=\"b\",shape=circle]; n140000574133520 [label=\"a\",shape=circle]; n140000574132656 -- n140000160424784 [label=0,style=dashed]; n140000574132656 -- n140000160427472 [label=1]; n140000574133616 -- n140000574132656 [label=0,style=dashed]; n140000574133616 -- n140000160427472 [label=1]; n140000574133520 -- n140000160424784 [label=0,style=dashed]; n140000574133520 -- n140000574133616 [label=1]; }'"
      ]
     },
     "execution_count": 5,
     "metadata": {},
     "output_type": "execute_result"
    }
   ],
   "source": []
  },
  {
   "cell_type": "code",
   "execution_count": null,
   "metadata": {},
   "outputs": [],
   "source": []
  }
 ],
 "metadata": {
  "kernelspec": {
   "display_name": ".venv",
   "language": "python",
   "name": "python3"
  },
  "language_info": {
   "codemirror_mode": {
    "name": "ipython",
    "version": 3
   },
   "file_extension": ".py",
   "mimetype": "text/x-python",
   "name": "python",
   "nbconvert_exporter": "python",
   "pygments_lexer": "ipython3",
   "version": "3.10.6"
  },
  "orig_nbformat": 4,
  "vscode": {
   "interpreter": {
    "hash": "62f450e815ce66e1e44933bf2b1131b06929dc280f9e1ca3027de4434b000a7c"
   }
  }
 },
 "nbformat": 4,
 "nbformat_minor": 2
}
