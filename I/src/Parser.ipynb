{
 "cells": [
  {
   "cell_type": "code",
   "execution_count": 15,
   "metadata": {},
   "outputs": [],
   "source": [
    "from lark import Lark\n",
    "from lark.visitors import Transformer\n",
    "from LabeledTransitionSystem import *"
   ]
  },
  {
   "cell_type": "code",
   "execution_count": 16,
   "metadata": {},
   "outputs": [],
   "source": [
    "aut_parser = Lark.open(\"grammars/aut.lark\", parser=\"lalr\")\n",
    "mcf_parser = Lark.open(\"grammars/mcf.lark\", parser=\"lalr\")"
   ]
  },
  {
   "cell_type": "code",
   "execution_count": 17,
   "metadata": {},
   "outputs": [],
   "source": [
    "system = aut_parser.parse(open(\"../material/dining/dining_10.aut\").read())\n",
    "formula = mcf_parser.parse(open(\"../material/dining/invariantly_inevitably_eat.mcf\").read())"
   ]
  },
  {
   "cell_type": "code",
   "execution_count": 21,
   "metadata": {},
   "outputs": [
    {
     "name": "stdout",
     "output_type": "stream",
     "text": [
      "Stored 'lts' (LabeledTransitionSystem)\n"
     ]
    }
   ],
   "source": [
    "class LTSTransformer(Transformer):\n",
    "    def string(self, s):\n",
    "        return s[1:-1]\n",
    "    \n",
    "    number = int\n",
    "\n",
    "    FIRST_STATE = number\n",
    "    NR_OF_TRANSITIONS = number\n",
    "    NR_OF_STATES = number\n",
    "\n",
    "    def aut_header(self, header):\n",
    "        init_state, _, n_states = header\n",
    "        return [set(range(n_states)), {init_state}]\n",
    "\n",
    "    START_STATE = number\n",
    "    LABEL = string\n",
    "    END_STATE = number\n",
    "\n",
    "    def aut_edge(self, transition):\n",
    "        return tuple(transition)\n",
    "\n",
    "    # args is a list containing (in this order)\n",
    "    # set of states, initial_states and then transitions.\n",
    "    # Order is always given, since all files start with aut_header\n",
    "    # and then go on to specify transitions.\n",
    "    def start(self, args):\n",
    "        args = args[0] + args[1:]\n",
    "        lts = LabeledTransitionSystem(*args)\n",
    "        return lts\n",
    "\n",
    "\n",
    "lts = LTSTransformer().transform(system)\n",
    "%store lts"
   ]
  }
 ],
 "metadata": {
  "kernelspec": {
   "display_name": ".venv",
   "language": "python",
   "name": "python3"
  },
  "language_info": {
   "codemirror_mode": {
    "name": "ipython",
    "version": 3
   },
   "file_extension": ".py",
   "mimetype": "text/x-python",
   "name": "python",
   "nbconvert_exporter": "python",
   "pygments_lexer": "ipython3",
   "version": "3.10.6"
  },
  "orig_nbformat": 4,
  "vscode": {
   "interpreter": {
    "hash": "9ba982aee3603ca87a9facd265dc011bbe1ae334a09f3b87302456b61d0390a6"
   }
  }
 },
 "nbformat": 4,
 "nbformat_minor": 2
}
