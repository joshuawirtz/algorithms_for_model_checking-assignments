{
 "cells": [
  {
   "cell_type": "code",
   "execution_count": 1,
   "metadata": {},
   "outputs": [],
   "source": [
    "from lark import Lark"
   ]
  },
  {
   "cell_type": "code",
   "execution_count": 2,
   "metadata": {},
   "outputs": [],
   "source": [
    "aut_parser = Lark.open(\"grammars/aut.lark\", parser=\"earley\")\n",
    "mu_parser = Lark.open(\"grammars/mu.lark\", parser=\"earley\")"
   ]
  },
  {
   "cell_type": "code",
   "execution_count": 3,
   "metadata": {},
   "outputs": [
    {
     "name": "stdout",
     "output_type": "stream",
     "text": [
      "start\n",
      "  aut_header\n",
      "    0\n",
      "    12\n",
      "    10\n",
      "  aut_edge\n",
      "    0\n",
      "    \"lock(p2, f2)\"\n",
      "    1\n",
      "  aut_edge\n",
      "    0\n",
      "    \"lock(p1, f1)\"\n",
      "    2\n",
      "  aut_edge\n",
      "    1\n",
      "    \"lock(p1, f1)\"\n",
      "    3\n",
      "  aut_edge\n",
      "    1\n",
      "    \"lock(p2, f1)\"\n",
      "    4\n",
      "  aut_edge\n",
      "    2\n",
      "    \"lock(p2, f2)\"\n",
      "    3\n",
      "  aut_edge\n",
      "    2\n",
      "    \"lock(p1, f2)\"\n",
      "    5\n",
      "  aut_edge\n",
      "    4\n",
      "    \"eat(p2)\"\n",
      "    6\n",
      "  aut_edge\n",
      "    5\n",
      "    \"eat(p1)\"\n",
      "    7\n",
      "  aut_edge\n",
      "    6\n",
      "    \"free(p2, f2)\"\n",
      "    8\n",
      "  aut_edge\n",
      "    7\n",
      "    \"free(p1, f1)\"\n",
      "    9\n",
      "  aut_edge\n",
      "    8\n",
      "    \"free(p2, f1)\"\n",
      "    0\n",
      "  aut_edge\n",
      "    9\n",
      "    \"free(p1, f2)\"\n",
      "    0\n",
      "\n",
      "start\n",
      "  formula\n",
      "    or\n",
      "      formula\n",
      "        diamond\n",
      "          a\n",
      "          formula\ttrue\n",
      "      formula\n",
      "        box\n",
      "          b\n",
      "          formula\n",
      "            and\n",
      "              formula\tfalse\n",
      "              formula\tX\n",
      "\n"
     ]
    }
   ],
   "source": [
    "system = aut_parser.parse(open(\"../examples/test.aut\").read())\n",
    "formula = mu_parser.parse(open(\"../examples/test.mu\").read())\n",
    "print(system.pretty())\n",
    "print(formula.pretty())"
   ]
  },
  {
   "cell_type": "code",
   "execution_count": 4,
   "metadata": {},
   "outputs": [
    {
     "ename": "SyntaxError",
     "evalue": "incomplete input (3476080657.py, line 2)",
     "output_type": "error",
     "traceback": [
      "\u001b[0;36m  Cell \u001b[0;32mIn [4], line 2\u001b[0;36m\u001b[0m\n\u001b[0;31m    def __init__(self, states, ):\u001b[0m\n\u001b[0m                                 ^\u001b[0m\n\u001b[0;31mSyntaxError\u001b[0m\u001b[0;31m:\u001b[0m incomplete input\n"
     ]
    }
   ],
   "source": [
    "class LabeledTransitionSystem:\n",
    "    def __init__(self, states, ):\n"
   ]
  }
 ],
 "metadata": {
  "kernelspec": {
   "display_name": "Python 3",
   "language": "python",
   "name": "python3"
  },
  "language_info": {
   "codemirror_mode": {
    "name": "ipython",
    "version": 3
   },
   "file_extension": ".py",
   "mimetype": "text/x-python",
   "name": "python",
   "nbconvert_exporter": "python",
   "pygments_lexer": "ipython3",
   "version": "3.10.6"
  },
  "orig_nbformat": 4,
  "vscode": {
   "interpreter": {
    "hash": "e7370f93d1d0cde622a1f8e1c04877d8463912d04d973331ad4851f04de6915a"
   }
  }
 },
 "nbformat": 4,
 "nbformat_minor": 2
}
