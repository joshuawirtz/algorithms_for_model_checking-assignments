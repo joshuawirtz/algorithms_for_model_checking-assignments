{
 "cells": [
  {
   "cell_type": "code",
   "execution_count": null,
   "metadata": {},
   "outputs": [],
   "source": [
    "from lark import Lark"
   ]
  },
  {
   "cell_type": "code",
   "execution_count": null,
   "metadata": {},
   "outputs": [],
   "source": [
    "aut_parser = Lark.open(\"grammars/aut.lark\", parser=\"earley\")\n",
    "mu_parser = Lark.open(\"grammars/mu.lark\", parser=\"earley\")"
   ]
  },
  {
   "cell_type": "code",
   "execution_count": null,
   "metadata": {},
   "outputs": [],
   "source": [
    "system = aut_parser.parse(open(\"../examples/test.aut\").read())\n",
    "formula = mu_parser.parse(open(\"../examples/test.mu\").read())\n",
    "print(system.pretty())"
   ]
  },
  {
   "cell_type": "markdown",
   "metadata": {},
   "source": []
  },
  {
   "cell_type": "code",
   "execution_count": null,
   "metadata": {},
   "outputs": [],
   "source": [
    "class LabeledTransitionSystem:\n",
    "    def __init__(self, states, action_labels, init_states, transitions):\n",
    "        self.states = states\n",
    "        self.action_labels = action_labels\n",
    "        self.init_states = init_states\n",
    "        self.transitions = transitions # \\in S^3\n",
    "\n",
    "    def box(s,al):\n",
    "        [te for (ts,tal,te) in self.transitions\n",
    "            if ts == s and tal == al]\n",
    "\n"
   ]
  },
  {
   "cell_type": "code",
   "execution_count": null,
   "metadata": {},
   "outputs": [],
   "source": []
  }
 ],
 "metadata": {
  "kernelspec": {
   "display_name": ".venv",
   "language": "python",
   "name": "python3"
  },
  "language_info": {
   "codemirror_mode": {
    "name": "ipython",
    "version": 3
   },
   "file_extension": ".py",
   "mimetype": "text/x-python",
   "name": "python",
   "nbconvert_exporter": "python",
   "pygments_lexer": "ipython3",
   "version": "3.10.6"
  },
  "orig_nbformat": 4,
  "vscode": {
   "interpreter": {
    "hash": "62f450e815ce66e1e44933bf2b1131b06929dc280f9e1ca3027de4434b000a7c"
   }
  }
 },
 "nbformat": 4,
 "nbformat_minor": 2
}
