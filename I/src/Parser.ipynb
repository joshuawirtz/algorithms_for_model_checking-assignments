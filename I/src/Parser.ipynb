{
 "cells": [
  {
   "cell_type": "code",
   "execution_count": 1,
   "metadata": {},
   "outputs": [],
   "source": [
    "from lark import Lark\n",
    "from lark.visitors import Transformer\n",
    "from LabeledTransitionSystem import *"
   ]
  },
  {
   "cell_type": "code",
   "execution_count": 2,
   "metadata": {},
   "outputs": [],
   "source": [
    "aut_parser = Lark.open(\"grammars/aut.lark\", parser=\"earley\")\n",
    "mu_parser = Lark.open(\"grammars/mu.lark\", parser=\"earley\")"
   ]
  },
  {
   "cell_type": "code",
   "execution_count": 3,
   "metadata": {},
   "outputs": [
    {
     "name": "stdout",
     "output_type": "stream",
     "text": [
      "Tree(Token('RULE', 'start'), [Tree(Token('RULE', 'aut_header'), [Token('FIRST_STATE', '0'), Token('NR_OF_TRANSITIONS', '12'), Token('NR_OF_STATES', '10')]), Tree(Token('RULE', 'aut_edge'), [Token('START_STATE', '0'), Token('LABEL', '\"lock(p2, f2)\"'), Token('END_STATE', '1')]), Tree(Token('RULE', 'aut_edge'), [Token('START_STATE', '0'), Token('LABEL', '\"lock(p1, f1)\"'), Token('END_STATE', '2')]), Tree(Token('RULE', 'aut_edge'), [Token('START_STATE', '1'), Token('LABEL', '\"lock(p1, f1)\"'), Token('END_STATE', '3')]), Tree(Token('RULE', 'aut_edge'), [Token('START_STATE', '1'), Token('LABEL', '\"lock(p2, f1)\"'), Token('END_STATE', '4')]), Tree(Token('RULE', 'aut_edge'), [Token('START_STATE', '2'), Token('LABEL', '\"lock(p2, f2)\"'), Token('END_STATE', '3')]), Tree(Token('RULE', 'aut_edge'), [Token('START_STATE', '2'), Token('LABEL', '\"lock(p1, f2)\"'), Token('END_STATE', '5')]), Tree(Token('RULE', 'aut_edge'), [Token('START_STATE', '4'), Token('LABEL', '\"eat(p2)\"'), Token('END_STATE', '6')]), Tree(Token('RULE', 'aut_edge'), [Token('START_STATE', '5'), Token('LABEL', '\"eat(p1)\"'), Token('END_STATE', '7')]), Tree(Token('RULE', 'aut_edge'), [Token('START_STATE', '6'), Token('LABEL', '\"free(p2, f2)\"'), Token('END_STATE', '8')]), Tree(Token('RULE', 'aut_edge'), [Token('START_STATE', '7'), Token('LABEL', '\"free(p1, f1)\"'), Token('END_STATE', '9')]), Tree(Token('RULE', 'aut_edge'), [Token('START_STATE', '8'), Token('LABEL', '\"free(p2, f1)\"'), Token('END_STATE', '0')]), Tree(Token('RULE', 'aut_edge'), [Token('START_STATE', '9'), Token('LABEL', '\"free(p1, f2)\"'), Token('END_STATE', '0')])])\n"
     ]
    }
   ],
   "source": [
    "system = aut_parser.parse(open(\"../examples/test.aut\").read())\n",
    "formula = mu_parser.parse(open(\"../examples/test.mu\").read())\n",
    "print(system)"
   ]
  },
  {
   "cell_type": "code",
   "execution_count": 5,
   "metadata": {},
   "outputs": [
    {
     "name": "stdout",
     "output_type": "stream",
     "text": [
      "Stored 'lts' (LabeledTransitionSystem)\n"
     ]
    }
   ],
   "source": [
    "def merge(dicts):\n",
    "    merged = {}\n",
    "    for dict in dicts:\n",
    "        for key, value in dict.items():\n",
    "            if key in merged:\n",
    "                merged[key] = merged[key].union(value)\n",
    "            else:\n",
    "                merged[key] = value\n",
    "    return merged\n",
    "\n",
    "class LTSTransformer(Transformer):\n",
    "    def string(self, s):\n",
    "        return s[1:-1]\n",
    "    \n",
    "    number = int\n",
    "\n",
    "    FIRST_STATE = number\n",
    "    NR_OF_TRANSITIONS = number\n",
    "    NR_OF_STATES = number\n",
    "\n",
    "    def aut_header(self, header):\n",
    "        init_state, _, n_states = header\n",
    "        return {\"states\": set(range(n_states)),\n",
    "                \"init_states\": {init_state}}\n",
    "\n",
    "    START_STATE = number\n",
    "    LABEL = string\n",
    "    END_STATE = number\n",
    "\n",
    "    def aut_edge(self, transition):\n",
    "        return {\"transitions\": {tuple(transition)}}\n",
    "\n",
    "    def start(self, args):\n",
    "        argdict = merge(args)\n",
    "        argdict['action_labels'] = {al for (_, al, _) in argdict['transitions']}\n",
    "        lts = LabeledTransitionSystem(**argdict)\n",
    "        return lts\n",
    "\n",
    "lts = LTSTransformer().transform(system)\n",
    "%store lts"
   ]
  },
  {
   "cell_type": "code",
   "execution_count": null,
   "metadata": {},
   "outputs": [],
   "source": []
  }
 ],
 "metadata": {
  "kernelspec": {
   "display_name": "Python 3.9.9 ('.venv': venv)",
   "language": "python",
   "name": "python3"
  },
  "language_info": {
   "codemirror_mode": {
    "name": "ipython",
    "version": 3
   },
   "file_extension": ".py",
   "mimetype": "text/x-python",
   "name": "python",
   "nbconvert_exporter": "python",
   "pygments_lexer": "ipython3",
   "version": "3.9.9"
  },
  "orig_nbformat": 4,
  "vscode": {
   "interpreter": {
    "hash": "ea3e14efb139684c93b9e34d9c32bfa74e82b5761fb035c6b3eea9a3a2357a6e"
   }
  }
 },
 "nbformat": 4,
 "nbformat_minor": 2
}
