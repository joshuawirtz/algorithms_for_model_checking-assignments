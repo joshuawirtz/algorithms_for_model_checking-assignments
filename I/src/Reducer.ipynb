{
 "cells": [
  {
   "cell_type": "code",
   "execution_count": 16,
   "metadata": {},
   "outputs": [
    {
     "name": "stdout",
     "output_type": "stream",
     "text": [
      "start\n",
      "  formula\n",
      "    mu\n",
      "      X\n",
      "      formula\n",
      "        lor\n",
      "          formula\n",
      "            diamond\n",
      "              a\n",
      "              formula\ttrue\n",
      "          formula\n",
      "            box\n",
      "              b\n",
      "              formula\n",
      "                land\n",
      "                  formula\tfalse\n",
      "                  formula\tX\n",
      "\n"
     ]
    }
   ],
   "source": [
    "from lark import Lark\n",
    "\n",
    "mu_parser = Lark.open(\"grammars/mu.lark\", parser=\"earley\")\n",
    "formula = mu_parser.parse(open(\"../examples/test.mu\").read())\n",
    "print(formula.pretty())"
   ]
  },
  {
   "cell_type": "code",
   "execution_count": 18,
   "metadata": {},
   "outputs": [
    {
     "name": "stdout",
     "output_type": "stream",
     "text": [
      "{'mu': [{'var': 'X'}, {'or': [{'diamond': {'val': True}}, {'box': {'and': [{'val': False}, {'var': 'X'}]}}]}]}\n"
     ]
    }
   ],
   "source": [
    "class TreeToJson(Transformer):\n",
    "    def start(self, f):\n",
    "        (f,) = f\n",
    "        return f\n",
    "    def formula(self, f):\n",
    "        (f,) = f\n",
    "        return f\n",
    "    \n",
    "    TRUE = lambda self, _: {\"val\": True}\n",
    "    FALSE = lambda self, _: {\"val\": False}\n",
    "    def VAR(self, f):\n",
    "        (f,) = f\n",
    "        return {\"var\": f}\n",
    "    def land(self, f):\n",
    "        return {\"and\": f}\n",
    "    def lor(self, f):\n",
    "        return {\"or\": f}\n",
    "    def diamond(self, f):\n",
    "        (_, f) = f\n",
    "        return {\"diamond\": f}\n",
    "    def box(self, f):\n",
    "        (_, f) = f\n",
    "        return {\"box\": f}\n",
    "    def mu(self, f):\n",
    "        return {\"mu\": f}\n",
    "    def nu(self, f):\n",
    "        return {\"nu\": f}\n",
    "\n",
    "print(TreeToJson().transform(formula))"
   ]
  },
  {
   "cell_type": "code",
   "execution_count": 39,
   "metadata": {},
   "outputs": [
    {
     "name": "stdout",
     "output_type": "stream",
     "text": [
      "{'neg': {'nu': [{'var': 'X'}, {'or': [{'neg': {'box': {'neg': {'val': True}}}}, {'box': {'and': [{'neg': {'val': True}}, {'neg': {'var': 'X'}}]}}]}]}}\n"
     ]
    }
   ],
   "source": [
    "def reduceFormula(t):\n",
    "    operand = list(t.keys())[0]\n",
    "    arguments = t[operand]\n",
    "\n",
    "    def negate(t, x):\n",
    "        o = list(t.keys())[0]\n",
    "        a = t[o]\n",
    "\n",
    "        if o == \"var\":\n",
    "            if a == x[\"var\"]:\n",
    "                return {\"neg\": t}\n",
    "            else:\n",
    "                return t\n",
    "        elif o == \"val\":\n",
    "            return t\n",
    "        elif o == \"and\" or o == \"or\":\n",
    "            return {o: [negate(arg, x) for arg in a]}\n",
    "        elif o == \"mu\" or o == \"nu\":\n",
    "            v = arguments[0]\n",
    "            f = arguments[1]\n",
    "            return {o: [v, negate(f, x)]}\n",
    "        else:\n",
    "            return {o: negate(a, x)}\n",
    "\n",
    "    if operand == \"val\":\n",
    "        if arguments == False:\n",
    "            return {\"neg\": {\"val\": True}}\n",
    "        else:\n",
    "            return t\n",
    "    elif operand == \"var\":\n",
    "        return t\n",
    "    elif operand == \"diamond\":\n",
    "        return {\"neg\": {\"box\": {\"neg\": reduceFormula(arguments)}}}\n",
    "    elif operand == \"and\" or operand == \"or\":\n",
    "        return {operand: [reduceFormula(arg) for arg in arguments]}\n",
    "    elif operand == \"mu\":\n",
    "        v = arguments[0]\n",
    "        f = arguments[1]\n",
    "        return {\"neg\": {\"nu\": [v, reduceFormula(negate(f, v))]}}\n",
    "    elif operand == \"nu\":\n",
    "        v = arguments[0]\n",
    "        f = arguments[1]\n",
    "        return {operand: [v, reduceFormula(f)]}\n",
    "    else:\n",
    "        return {operand: reduceFormula(arguments)}\n",
    "\n",
    "\n",
    "print(reduceFormula(TreeToJson().transform(formula)))\n"
   ]
  },
  {
   "cell_type": "code",
   "execution_count": null,
   "metadata": {},
   "outputs": [],
   "source": []
  }
 ],
 "metadata": {
  "kernelspec": {
   "display_name": "Python 3.9.9 ('.venv': venv)",
   "language": "python",
   "name": "python3"
  },
  "language_info": {
   "codemirror_mode": {
    "name": "ipython",
    "version": 3
   },
   "file_extension": ".py",
   "mimetype": "text/x-python",
   "name": "python",
   "nbconvert_exporter": "python",
   "pygments_lexer": "ipython3",
   "version": "3.9.9"
  },
  "orig_nbformat": 4,
  "vscode": {
   "interpreter": {
    "hash": "ea3e14efb139684c93b9e34d9c32bfa74e82b5761fb035c6b3eea9a3a2357a6e"
   }
  }
 },
 "nbformat": 4,
 "nbformat_minor": 2
}
