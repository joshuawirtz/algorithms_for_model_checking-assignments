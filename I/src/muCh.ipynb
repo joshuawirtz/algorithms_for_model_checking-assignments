{
 "cells": [
  {
   "cell_type": "code",
   "execution_count": 1,
   "metadata": {},
   "outputs": [],
   "source": [
    "from pathlib import Path\n",
    "\n",
    "from itertools import product\n",
    "\n",
    "import logging\n",
    "\n",
    "import yappi\n",
    "\n",
    "import seaborn as sns\n",
    "from pandas import DataFrame\n",
    "\n",
    "from muCh import muCh\n",
    "from checking import Checker\n",
    "from parsing import Parser"
   ]
  },
  {
   "cell_type": "code",
   "execution_count": 2,
   "metadata": {},
   "outputs": [],
   "source": [
    "systems_dir = Path(\"../material/dining/\")\n",
    "formulas_dir = Path(\"../material/dining/\")\n",
    "\n",
    "logging.basicConfig(format='%(asctime)s:%(levelname)s:%(message)s',\n",
    "                    datefmt='%H:%M:%S',\n",
    "                    level=logging.INFO)"
   ]
  },
  {
   "cell_type": "code",
   "execution_count": 3,
   "metadata": {},
   "outputs": [],
   "source": [
    "algorithm = Checker.Algorithm.NAIVE\n",
    "\n",
    "system_paths = [file for file in systems_dir.iterdir() if file.suffix == '.aut']\n",
    "formula_paths = [file for file in formulas_dir.iterdir() if file.suffix == '.mcf']"
   ]
  },
  {
   "cell_type": "code",
   "execution_count": 4,
   "metadata": {},
   "outputs": [
    {
     "name": "stderr",
     "output_type": "stream",
     "text": [
      "18:02:29:INFO:Parsing formula 'invariantly_inevitably_eat.mcf'.\n",
      "18:02:29:INFO:Parsing formula 'invariantly_plato_starves.mcf'.\n",
      "18:02:29:INFO:Parsing formula 'invariantly_possibly_eat.mcf'.\n",
      "18:02:29:INFO:Parsing formula 'plato_infinitely_often_can_eat.mcf'.\n",
      "18:02:29:INFO:Parsing system 'dining_10.aut'.\n",
      "18:03:46:INFO:Parsing system 'dining_2.aut'.\n",
      "18:03:46:INFO:Parsing system 'dining_3.aut'.\n",
      "18:03:46:INFO:Parsing system 'dining_4.aut'.\n",
      "18:03:46:INFO:Parsing system 'dining_5.aut'.\n",
      "18:03:46:INFO:Parsing system 'dining_6.aut'.\n",
      "18:03:47:INFO:Parsing system 'dining_7.aut'.\n",
      "18:03:48:INFO:Parsing system 'dining_8.aut'.\n",
      "18:03:55:INFO:Parsing system 'dining_9.aut'.\n"
     ]
    }
   ],
   "source": [
    "formulas = {}\n",
    "for formula_path in formula_paths:\n",
    "    logging.info(\"Parsing formula '%s'.\" % formula_path.name)\n",
    "    formulas[formula_path.name] = Parser.parse_formula(formula_path)\n",
    "\n",
    "systems = {}\n",
    "for system_path in system_paths:\n",
    "    logging.info(\"Parsing system '%s'.\" % system_path.name)\n",
    "    systems[system_path.name] = Parser.parse_system(system_path)"
   ]
  },
  {
   "cell_type": "code",
   "execution_count": 5,
   "metadata": {},
   "outputs": [
    {
     "name": "stderr",
     "output_type": "stream",
     "text": [
      "18:04:18:INFO:Checking system dining_2.aut on formula invariantly_inevitably_eat.mcf with algorithm NAIVE.\n",
      "18:04:18:INFO:Checking system dining_2.aut on formula invariantly_inevitably_eat.mcf with algorithm EMERSON_LEI.\n",
      "18:04:18:INFO:Checking system dining_2.aut on formula invariantly_plato_starves.mcf with algorithm NAIVE.\n",
      "18:04:18:INFO:Checking system dining_2.aut on formula invariantly_plato_starves.mcf with algorithm EMERSON_LEI.\n",
      "18:04:18:INFO:Checking system dining_2.aut on formula invariantly_possibly_eat.mcf with algorithm NAIVE.\n",
      "18:04:18:INFO:Checking system dining_2.aut on formula invariantly_possibly_eat.mcf with algorithm EMERSON_LEI.\n",
      "18:04:18:INFO:Checking system dining_2.aut on formula plato_infinitely_often_can_eat.mcf with algorithm NAIVE.\n",
      "18:04:18:INFO:Checking system dining_2.aut on formula plato_infinitely_often_can_eat.mcf with algorithm EMERSON_LEI.\n",
      "18:04:18:INFO:Checking system dining_3.aut on formula invariantly_inevitably_eat.mcf with algorithm NAIVE.\n",
      "18:04:18:INFO:Checking system dining_3.aut on formula invariantly_inevitably_eat.mcf with algorithm EMERSON_LEI.\n",
      "18:04:18:INFO:Checking system dining_3.aut on formula invariantly_plato_starves.mcf with algorithm NAIVE.\n",
      "18:04:18:INFO:Checking system dining_3.aut on formula invariantly_plato_starves.mcf with algorithm EMERSON_LEI.\n",
      "18:04:18:INFO:Checking system dining_3.aut on formula invariantly_possibly_eat.mcf with algorithm NAIVE.\n",
      "18:04:18:INFO:Checking system dining_3.aut on formula invariantly_possibly_eat.mcf with algorithm EMERSON_LEI.\n",
      "18:04:18:INFO:Checking system dining_3.aut on formula plato_infinitely_often_can_eat.mcf with algorithm NAIVE.\n",
      "18:04:18:INFO:Checking system dining_3.aut on formula plato_infinitely_often_can_eat.mcf with algorithm EMERSON_LEI.\n",
      "18:04:18:INFO:Checking system dining_4.aut on formula invariantly_inevitably_eat.mcf with algorithm NAIVE.\n",
      "18:04:18:INFO:Checking system dining_4.aut on formula invariantly_inevitably_eat.mcf with algorithm EMERSON_LEI.\n",
      "18:04:18:INFO:Checking system dining_4.aut on formula invariantly_plato_starves.mcf with algorithm NAIVE.\n",
      "18:04:18:INFO:Checking system dining_4.aut on formula invariantly_plato_starves.mcf with algorithm EMERSON_LEI.\n",
      "18:04:18:INFO:Checking system dining_4.aut on formula invariantly_possibly_eat.mcf with algorithm NAIVE.\n",
      "18:04:18:INFO:Checking system dining_4.aut on formula invariantly_possibly_eat.mcf with algorithm EMERSON_LEI.\n",
      "18:04:18:INFO:Checking system dining_4.aut on formula plato_infinitely_often_can_eat.mcf with algorithm NAIVE.\n",
      "18:04:18:INFO:Checking system dining_4.aut on formula plato_infinitely_often_can_eat.mcf with algorithm EMERSON_LEI.\n",
      "18:04:18:INFO:Checking system dining_5.aut on formula invariantly_inevitably_eat.mcf with algorithm NAIVE.\n",
      "18:04:18:INFO:Checking system dining_5.aut on formula invariantly_inevitably_eat.mcf with algorithm EMERSON_LEI.\n",
      "18:04:18:INFO:Checking system dining_5.aut on formula invariantly_plato_starves.mcf with algorithm NAIVE.\n",
      "18:04:18:INFO:Checking system dining_5.aut on formula invariantly_plato_starves.mcf with algorithm EMERSON_LEI.\n",
      "18:04:18:INFO:Checking system dining_5.aut on formula invariantly_possibly_eat.mcf with algorithm NAIVE.\n",
      "18:04:18:INFO:Checking system dining_5.aut on formula invariantly_possibly_eat.mcf with algorithm EMERSON_LEI.\n",
      "18:04:18:INFO:Checking system dining_5.aut on formula plato_infinitely_often_can_eat.mcf with algorithm NAIVE.\n",
      "18:04:18:INFO:Checking system dining_5.aut on formula plato_infinitely_often_can_eat.mcf with algorithm EMERSON_LEI.\n",
      "18:04:18:INFO:Checking system dining_6.aut on formula invariantly_inevitably_eat.mcf with algorithm NAIVE.\n",
      "18:04:19:INFO:Checking system dining_6.aut on formula invariantly_inevitably_eat.mcf with algorithm EMERSON_LEI.\n",
      "18:04:19:INFO:Checking system dining_6.aut on formula invariantly_plato_starves.mcf with algorithm NAIVE.\n",
      "18:04:19:INFO:Checking system dining_6.aut on formula invariantly_plato_starves.mcf with algorithm EMERSON_LEI.\n",
      "18:04:19:INFO:Checking system dining_6.aut on formula invariantly_possibly_eat.mcf with algorithm NAIVE.\n",
      "18:04:19:INFO:Checking system dining_6.aut on formula invariantly_possibly_eat.mcf with algorithm EMERSON_LEI.\n",
      "18:04:20:INFO:Checking system dining_6.aut on formula plato_infinitely_often_can_eat.mcf with algorithm NAIVE.\n",
      "18:04:20:INFO:Checking system dining_6.aut on formula plato_infinitely_often_can_eat.mcf with algorithm EMERSON_LEI.\n",
      "18:04:21:INFO:Checking system dining_7.aut on formula invariantly_inevitably_eat.mcf with algorithm NAIVE.\n",
      "18:04:21:INFO:Checking system dining_7.aut on formula invariantly_inevitably_eat.mcf with algorithm EMERSON_LEI.\n",
      "18:04:22:INFO:Checking system dining_7.aut on formula invariantly_plato_starves.mcf with algorithm NAIVE.\n",
      "18:04:22:INFO:Checking system dining_7.aut on formula invariantly_plato_starves.mcf with algorithm EMERSON_LEI.\n",
      "18:04:23:INFO:Checking system dining_7.aut on formula invariantly_possibly_eat.mcf with algorithm NAIVE.\n",
      "18:04:23:INFO:Checking system dining_7.aut on formula invariantly_possibly_eat.mcf with algorithm EMERSON_LEI.\n",
      "18:04:33:INFO:Checking system dining_7.aut on formula plato_infinitely_often_can_eat.mcf with algorithm NAIVE.\n",
      "18:04:33:INFO:Checking system dining_7.aut on formula plato_infinitely_often_can_eat.mcf with algorithm EMERSON_LEI.\n",
      "18:04:34:INFO:Checking system dining_8.aut on formula invariantly_inevitably_eat.mcf with algorithm NAIVE.\n",
      "18:04:35:INFO:Checking system dining_8.aut on formula invariantly_inevitably_eat.mcf with algorithm EMERSON_LEI.\n",
      "18:04:44:INFO:Checking system dining_8.aut on formula invariantly_plato_starves.mcf with algorithm NAIVE.\n",
      "18:04:45:INFO:Checking system dining_8.aut on formula invariantly_plato_starves.mcf with algorithm EMERSON_LEI.\n",
      "18:04:48:INFO:Checking system dining_8.aut on formula invariantly_possibly_eat.mcf with algorithm NAIVE.\n",
      "18:04:49:INFO:Checking system dining_8.aut on formula invariantly_possibly_eat.mcf with algorithm EMERSON_LEI.\n",
      "18:05:48:INFO:Checking system dining_8.aut on formula plato_infinitely_often_can_eat.mcf with algorithm NAIVE.\n",
      "18:05:49:INFO:Checking system dining_8.aut on formula plato_infinitely_often_can_eat.mcf with algorithm EMERSON_LEI.\n",
      "18:05:54:INFO:Checking system dining_9.aut on formula invariantly_inevitably_eat.mcf with algorithm NAIVE.\n",
      "18:05:57:INFO:Checking system dining_9.aut on formula invariantly_inevitably_eat.mcf with algorithm EMERSON_LEI.\n",
      "18:06:41:INFO:Checking system dining_9.aut on formula invariantly_plato_starves.mcf with algorithm NAIVE.\n",
      "18:06:43:INFO:Checking system dining_9.aut on formula invariantly_plato_starves.mcf with algorithm EMERSON_LEI.\n",
      "18:06:57:INFO:Checking system dining_9.aut on formula invariantly_possibly_eat.mcf with algorithm NAIVE.\n",
      "18:07:00:INFO:Checking system dining_9.aut on formula invariantly_possibly_eat.mcf with algorithm EMERSON_LEI.\n",
      "18:11:59:INFO:Checking system dining_9.aut on formula plato_infinitely_often_can_eat.mcf with algorithm NAIVE.\n",
      "18:12:01:INFO:Checking system dining_9.aut on formula plato_infinitely_often_can_eat.mcf with algorithm EMERSON_LEI.\n",
      "18:12:26:INFO:Checking system dining_10.aut on formula invariantly_inevitably_eat.mcf with algorithm NAIVE.\n",
      "18:12:36:INFO:Checking system dining_10.aut on formula invariantly_inevitably_eat.mcf with algorithm EMERSON_LEI.\n",
      "18:16:26:INFO:Checking system dining_10.aut on formula invariantly_plato_starves.mcf with algorithm NAIVE.\n",
      "18:16:33:INFO:Checking system dining_10.aut on formula invariantly_plato_starves.mcf with algorithm EMERSON_LEI.\n",
      "18:17:39:INFO:Checking system dining_10.aut on formula invariantly_possibly_eat.mcf with algorithm NAIVE.\n",
      "18:17:50:INFO:Checking system dining_10.aut on formula invariantly_possibly_eat.mcf with algorithm EMERSON_LEI.\n",
      "18:43:30:INFO:Checking system dining_10.aut on formula plato_infinitely_often_can_eat.mcf with algorithm NAIVE.\n",
      "18:43:38:INFO:Checking system dining_10.aut on formula plato_infinitely_often_can_eat.mcf with algorithm EMERSON_LEI.\n"
     ]
    }
   ],
   "source": [
    "statistics = []\n",
    "\n",
    "for system_name, system in sorted(systems.items(), key=lambda x: int(x[0].split(\"_\")[1].split(\".\")[0])):\n",
    "    for formula_name, formula in formulas.items():\n",
    "        for algorithm in Checker.Algorithm:\n",
    "            logging.info(\"Checking system %s on formula %s with algorithm %s.\" % (system_name, formula_name, algorithm.name))\n",
    "\n",
    "            with yappi.run():\n",
    "                satisfied, _, ifp = Checker.solver(system, formula, algorithm)\n",
    "\n",
    "            ttot = yappi.get_func_stats(filter_callback=lambda x: yappi.func_matches(x, [Checker.solver]))[0].ttot\n",
    "\n",
    "            statistics.append((system_name, formula_name, algorithm.name, satisfied, ifp, ttot))"
   ]
  },
  {
   "cell_type": "code",
   "execution_count": 6,
   "metadata": {},
   "outputs": [],
   "source": [
    "df = DataFrame(statistics, columns = [\"System\", \"Formula\", \"Algorithm\", \"satisfied\", \"ifp\", \"ttot\"])"
   ]
  },
  {
   "cell_type": "code",
   "execution_count": 7,
   "metadata": {},
   "outputs": [
    {
     "data": {
      "text/html": [
       "<div>\n",
       "<style scoped>\n",
       "    .dataframe tbody tr th:only-of-type {\n",
       "        vertical-align: middle;\n",
       "    }\n",
       "\n",
       "    .dataframe tbody tr th {\n",
       "        vertical-align: top;\n",
       "    }\n",
       "\n",
       "    .dataframe thead th {\n",
       "        text-align: right;\n",
       "    }\n",
       "</style>\n",
       "<table border=\"1\" class=\"dataframe\">\n",
       "  <thead>\n",
       "    <tr style=\"text-align: right;\">\n",
       "      <th></th>\n",
       "      <th>System</th>\n",
       "      <th>Formula</th>\n",
       "      <th>Algorithm</th>\n",
       "      <th>satisfied</th>\n",
       "      <th>ifp</th>\n",
       "      <th>ttot</th>\n",
       "    </tr>\n",
       "  </thead>\n",
       "  <tbody>\n",
       "    <tr>\n",
       "      <th>0</th>\n",
       "      <td>dining_2.aut</td>\n",
       "      <td>invariantly_inevitably_eat.mcf</td>\n",
       "      <td>NAIVE</td>\n",
       "      <td>False</td>\n",
       "      <td>6</td>\n",
       "      <td>0.002250</td>\n",
       "    </tr>\n",
       "    <tr>\n",
       "      <th>1</th>\n",
       "      <td>dining_2.aut</td>\n",
       "      <td>invariantly_inevitably_eat.mcf</td>\n",
       "      <td>EMERSON_LEI</td>\n",
       "      <td>False</td>\n",
       "      <td>9</td>\n",
       "      <td>0.005220</td>\n",
       "    </tr>\n",
       "    <tr>\n",
       "      <th>2</th>\n",
       "      <td>dining_2.aut</td>\n",
       "      <td>invariantly_plato_starves.mcf</td>\n",
       "      <td>NAIVE</td>\n",
       "      <td>True</td>\n",
       "      <td>6</td>\n",
       "      <td>0.006625</td>\n",
       "    </tr>\n",
       "    <tr>\n",
       "      <th>3</th>\n",
       "      <td>dining_2.aut</td>\n",
       "      <td>invariantly_plato_starves.mcf</td>\n",
       "      <td>EMERSON_LEI</td>\n",
       "      <td>False</td>\n",
       "      <td>13</td>\n",
       "      <td>0.009610</td>\n",
       "    </tr>\n",
       "    <tr>\n",
       "      <th>4</th>\n",
       "      <td>dining_2.aut</td>\n",
       "      <td>invariantly_possibly_eat.mcf</td>\n",
       "      <td>NAIVE</td>\n",
       "      <td>False</td>\n",
       "      <td>6</td>\n",
       "      <td>0.011991</td>\n",
       "    </tr>\n",
       "    <tr>\n",
       "      <th>...</th>\n",
       "      <td>...</td>\n",
       "      <td>...</td>\n",
       "      <td>...</td>\n",
       "      <td>...</td>\n",
       "      <td>...</td>\n",
       "      <td>...</td>\n",
       "    </tr>\n",
       "    <tr>\n",
       "      <th>67</th>\n",
       "      <td>dining_10.aut</td>\n",
       "      <td>invariantly_plato_starves.mcf</td>\n",
       "      <td>EMERSON_LEI</td>\n",
       "      <td>False</td>\n",
       "      <td>52</td>\n",
       "      <td>800.851373</td>\n",
       "    </tr>\n",
       "    <tr>\n",
       "      <th>68</th>\n",
       "      <td>dining_10.aut</td>\n",
       "      <td>invariantly_possibly_eat.mcf</td>\n",
       "      <td>NAIVE</td>\n",
       "      <td>False</td>\n",
       "      <td>6</td>\n",
       "      <td>811.353571</td>\n",
       "    </tr>\n",
       "    <tr>\n",
       "      <th>69</th>\n",
       "      <td>dining_10.aut</td>\n",
       "      <td>invariantly_possibly_eat.mcf</td>\n",
       "      <td>EMERSON_LEI</td>\n",
       "      <td>False</td>\n",
       "      <td>891</td>\n",
       "      <td>2351.597320</td>\n",
       "    </tr>\n",
       "    <tr>\n",
       "      <th>70</th>\n",
       "      <td>dining_10.aut</td>\n",
       "      <td>plato_infinitely_often_can_eat.mcf</td>\n",
       "      <td>NAIVE</td>\n",
       "      <td>False</td>\n",
       "      <td>6</td>\n",
       "      <td>2358.747718</td>\n",
       "    </tr>\n",
       "    <tr>\n",
       "      <th>71</th>\n",
       "      <td>dining_10.aut</td>\n",
       "      <td>plato_infinitely_often_can_eat.mcf</td>\n",
       "      <td>EMERSON_LEI</td>\n",
       "      <td>True</td>\n",
       "      <td>66</td>\n",
       "      <td>2467.467140</td>\n",
       "    </tr>\n",
       "  </tbody>\n",
       "</table>\n",
       "<p>72 rows × 6 columns</p>\n",
       "</div>"
      ],
      "text/plain": [
       "           System                             Formula    Algorithm  satisfied  \\\n",
       "0    dining_2.aut      invariantly_inevitably_eat.mcf        NAIVE      False   \n",
       "1    dining_2.aut      invariantly_inevitably_eat.mcf  EMERSON_LEI      False   \n",
       "2    dining_2.aut       invariantly_plato_starves.mcf        NAIVE       True   \n",
       "3    dining_2.aut       invariantly_plato_starves.mcf  EMERSON_LEI      False   \n",
       "4    dining_2.aut        invariantly_possibly_eat.mcf        NAIVE      False   \n",
       "..            ...                                 ...          ...        ...   \n",
       "67  dining_10.aut       invariantly_plato_starves.mcf  EMERSON_LEI      False   \n",
       "68  dining_10.aut        invariantly_possibly_eat.mcf        NAIVE      False   \n",
       "69  dining_10.aut        invariantly_possibly_eat.mcf  EMERSON_LEI      False   \n",
       "70  dining_10.aut  plato_infinitely_often_can_eat.mcf        NAIVE      False   \n",
       "71  dining_10.aut  plato_infinitely_often_can_eat.mcf  EMERSON_LEI       True   \n",
       "\n",
       "    ifp         ttot  \n",
       "0     6     0.002250  \n",
       "1     9     0.005220  \n",
       "2     6     0.006625  \n",
       "3    13     0.009610  \n",
       "4     6     0.011991  \n",
       "..  ...          ...  \n",
       "67   52   800.851373  \n",
       "68    6   811.353571  \n",
       "69  891  2351.597320  \n",
       "70    6  2358.747718  \n",
       "71   66  2467.467140  \n",
       "\n",
       "[72 rows x 6 columns]"
      ]
     },
     "execution_count": 7,
     "metadata": {},
     "output_type": "execute_result"
    }
   ],
   "source": [
    "df"
   ]
  },
  {
   "cell_type": "code",
   "execution_count": 8,
   "metadata": {},
   "outputs": [
    {
     "name": "stderr",
     "output_type": "stream",
     "text": [
      "/tmp/ipykernel_29737/2270096680.py:1: UserWarning: Boolean Series key will be reindexed to match DataFrame index.\n",
      "  sns.catplot(data=df[df[\"Algorithm\"] == \"EMERSON_LEI\"][df[\"Formula\"] == \"invariantly_possibly_eat.mcf\"], kind=\"bar\",\n"
     ]
    },
    {
     "data": {
      "text/plain": [
       "<seaborn.axisgrid.FacetGrid at 0x7fc96e2980d0>"
      ]
     },
     "execution_count": 8,
     "metadata": {},
     "output_type": "execute_result"
    },
    {
     "data": {
      "image/png": "[encoded data removed]",
      "text/plain": [
       "<Figure size 747.75x500 with 1 Axes>"
      ]
     },
     "metadata": {},
     "output_type": "display_data"
    }
   ],
   "source": [
    "sns.catplot(data=df[df[\"Algorithm\"] == \"EMERSON_LEI\"][df[\"Formula\"] == \"invariantly_possibly_eat.mcf\"], kind=\"bar\",\n",
    "            x=\"System\", y=\"ifp\", hue=\"Formula\")"
   ]
  }
 ],
 "metadata": {
  "kernelspec": {
   "display_name": "Python 3.10.6 ('.venv': venv)",
   "language": "python",
   "name": "python3"
  },
  "language_info": {
   "codemirror_mode": {
    "name": "ipython",
    "version": 3
   },
   "file_extension": ".py",
   "mimetype": "text/x-python",
   "name": "python",
   "nbconvert_exporter": "python",
   "pygments_lexer": "ipython3",
   "version": "3.10.6"
  },
  "orig_nbformat": 4,
  "vscode": {
   "interpreter": {
    "hash": "9ba982aee3603ca87a9facd265dc011bbe1ae334a09f3b87302456b61d0390a6"
   }
  }
 },
 "nbformat": 4,
 "nbformat_minor": 2
}
