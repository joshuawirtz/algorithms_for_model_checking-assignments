{
 "cells": [
  {
   "cell_type": "code",
   "execution_count": 1,
   "metadata": {},
   "outputs": [],
   "source": [
    "import yappi\n",
    "\n",
    "from muCh import muCh\n",
    "from checking.Checker import Algorithm"
   ]
  },
  {
   "cell_type": "code",
   "execution_count": 2,
   "metadata": {},
   "outputs": [],
   "source": [
    "algorithm = Algorithm.NAIVE\n",
    "system_path = \"../material/dining/dining_2.aut\"\n",
    "formula_path = \"../material/dining/invariantly_inevitably_eat.mcf\""
   ]
  },
  {
   "cell_type": "code",
   "execution_count": 3,
   "metadata": {},
   "outputs": [],
   "source": [
    "much = muCh(algorithm, system_path, formula_path)\n",
    "much.parse()"
   ]
  },
  {
   "cell_type": "code",
   "execution_count": 4,
   "metadata": {},
   "outputs": [
    {
     "name": "stdout",
     "output_type": "stream",
     "text": [
      "False\n",
      "7\n",
      "set()\n",
      "\n",
      "Clock type: CPU\n",
      "Ordered by: totaltime, desc\n",
      "\n",
      "name                                  ncall  tsub      ttot      tavg      \n",
      "../src/checking/Checker.py:65 solver  1      0.000066  0.003754  0.003754\n",
      "../src/checking/Checker.py:80 simple  1      0.000040  0.002398  0.002398\n",
      "..ecking/Checker.py:112 emmerson_lei  89/3   0.001571  0.002353  0.000026\n",
      "..hecking/Checker.py:3 reduceFormula  20/1   0.000325  0.000637  0.000032\n",
      "../checking/Checker.py:41 <listcomp>  5/1    0.000075  0.000581  0.000116\n",
      "..I/src/checking/Checker.py:7 negate  8/1    0.000107  0.000162  0.000020\n",
      "../checking/Checker.py:19 <listcomp>  2/1    0.000028  0.000142  0.000071\n"
     ]
    }
   ],
   "source": [
    "yappi.start()\n",
    "yappi.clear_stats()\n",
    "\n",
    "much.check()\n",
    "\n",
    "yappi.stop()\n",
    "\n",
    "# Only show stats of Checker\n",
    "modules = [sys.modules[\"checking.Checker\"]]\n",
    "stats = yappi.get_func_stats(filter_callback=lambda x: yappi.module_matches(x, modules)).print_all()"
   ]
  }
 ],
 "metadata": {
  "kernelspec": {
   "display_name": "Python 3.10.6 ('.venv': venv)",
   "language": "python",
   "name": "python3"
  },
  "language_info": {
   "codemirror_mode": {
    "name": "ipython",
    "version": 3
   },
   "file_extension": ".py",
   "mimetype": "text/x-python",
   "name": "python",
   "nbconvert_exporter": "python",
   "pygments_lexer": "ipython3",
   "version": "3.10.6"
  },
  "orig_nbformat": 4,
  "vscode": {
   "interpreter": {
    "hash": "9ba982aee3603ca87a9facd265dc011bbe1ae334a09f3b87302456b61d0390a6"
   }
  }
 },
 "nbformat": 4,
 "nbformat_minor": 2
}
