{
 "cells": [
  {
   "cell_type": "code",
   "execution_count": 8,
   "metadata": {},
   "outputs": [],
   "source": [
    "# Allow import of modules from src/\n",
    "import sys\n",
    "sys.path.append(\"..\")"
   ]
  },
  {
   "cell_type": "code",
   "execution_count": 13,
   "metadata": {},
   "outputs": [],
   "source": [
    "from pathlib import Path\n",
    "\n",
    "import logging\n",
    "\n",
    "import yappi\n",
    "\n",
    "from pandas import DataFrame\n",
    "\n",
    "from muCh import muCh\n",
    "from checking import Checker\n",
    "from parsing import Parser"
   ]
  },
  {
   "cell_type": "code",
   "execution_count": 14,
   "metadata": {},
   "outputs": [],
   "source": [
    "systems_dir = Path(\"../../material/dining/\")\n",
    "formulas_dir = Path(\"../../material/dining/\")\n",
    "\n",
    "results_path = Path(\"../../profiling/dining/2022-12-13_10-51.csv\")\n",
    "\n",
    "logging.basicConfig(format='%(asctime)s:%(levelname)s:%(message)s',\n",
    "                    datefmt='%H:%M:%S',\n",
    "                    level=logging.INFO)"
   ]
  },
  {
   "cell_type": "code",
   "execution_count": 3,
   "metadata": {},
   "outputs": [],
   "source": [
    "algorithm = Checker.Algorithm.NAIVE\n",
    "\n",
    "system_paths = [file for file in systems_dir.iterdir() if file.suffix == '.aut']\n",
    "formula_paths = [file for file in formulas_dir.iterdir() if file.suffix == '.mcf']"
   ]
  },
  {
   "cell_type": "code",
   "execution_count": 4,
   "metadata": {},
   "outputs": [
    {
     "name": "stderr",
     "output_type": "stream",
     "text": [
      "20:23:16:INFO:Parsing formula 'invariantly_inevitably_eat.mcf'.\n",
      "20:23:16:INFO:Parsing formula 'invariantly_plato_starves.mcf'.\n",
      "20:23:16:INFO:Parsing formula 'invariantly_possibly_eat.mcf'.\n",
      "20:23:16:INFO:Parsing formula 'plato_infinitely_often_can_eat.mcf'.\n",
      "20:23:16:INFO:Parsing system 'dining_10.aut'.\n",
      "20:25:18:INFO:Parsing system 'dining_2.aut'.\n",
      "20:25:18:INFO:Parsing system 'dining_3.aut'.\n",
      "20:25:19:INFO:Parsing system 'dining_4.aut'.\n",
      "20:25:19:INFO:Parsing system 'dining_5.aut'.\n",
      "20:25:19:INFO:Parsing system 'dining_6.aut'.\n",
      "20:25:20:INFO:Parsing system 'dining_7.aut'.\n",
      "20:25:23:INFO:Parsing system 'dining_8.aut'.\n",
      "20:25:40:INFO:Parsing system 'dining_9.aut'.\n"
     ]
    }
   ],
   "source": [
    "formulas = {}\n",
    "for formula_path in formula_paths:\n",
    "    logging.info(\"Parsing formula '%s'.\" % formula_path.name)\n",
    "    formulas[formula_path.name] = Parser.parse_formula(formula_path)\n",
    "\n",
    "systems = {}\n",
    "for system_path in system_paths:\n",
    "    logging.info(\"Parsing system '%s'.\" % system_path.name)\n",
    "    systems[system_path.name] = Parser.parse_system(system_path)"
   ]
  },
  {
   "cell_type": "code",
   "execution_count": 5,
   "metadata": {},
   "outputs": [
    {
     "name": "stderr",
     "output_type": "stream",
     "text": [
      "20:26:36:INFO:Checking system dining_2.aut on formula invariantly_inevitably_eat.mcf with algorithm NAIVE.\n",
      "20:26:36:INFO:Checking system dining_2.aut on formula invariantly_inevitably_eat.mcf with algorithm EMERSON_LEI.\n",
      "20:26:36:INFO:Checking system dining_2.aut on formula invariantly_plato_starves.mcf with algorithm NAIVE.\n",
      "20:26:36:INFO:Checking system dining_2.aut on formula invariantly_plato_starves.mcf with algorithm EMERSON_LEI.\n",
      "20:26:36:INFO:Checking system dining_2.aut on formula invariantly_possibly_eat.mcf with algorithm NAIVE.\n",
      "20:26:36:INFO:Checking system dining_2.aut on formula invariantly_possibly_eat.mcf with algorithm EMERSON_LEI.\n",
      "20:26:36:INFO:Checking system dining_2.aut on formula plato_infinitely_often_can_eat.mcf with algorithm NAIVE.\n",
      "20:26:36:INFO:Checking system dining_2.aut on formula plato_infinitely_often_can_eat.mcf with algorithm EMERSON_LEI.\n",
      "20:26:36:INFO:Checking system dining_3.aut on formula invariantly_inevitably_eat.mcf with algorithm NAIVE.\n",
      "20:26:36:INFO:Checking system dining_3.aut on formula invariantly_inevitably_eat.mcf with algorithm EMERSON_LEI.\n",
      "20:26:36:INFO:Checking system dining_3.aut on formula invariantly_plato_starves.mcf with algorithm NAIVE.\n",
      "20:26:36:INFO:Checking system dining_3.aut on formula invariantly_plato_starves.mcf with algorithm EMERSON_LEI.\n",
      "20:26:37:INFO:Checking system dining_3.aut on formula invariantly_possibly_eat.mcf with algorithm NAIVE.\n",
      "20:26:37:INFO:Checking system dining_3.aut on formula invariantly_possibly_eat.mcf with algorithm EMERSON_LEI.\n",
      "20:26:37:INFO:Checking system dining_3.aut on formula plato_infinitely_often_can_eat.mcf with algorithm NAIVE.\n",
      "20:26:37:INFO:Checking system dining_3.aut on formula plato_infinitely_often_can_eat.mcf with algorithm EMERSON_LEI.\n",
      "20:26:37:INFO:Checking system dining_4.aut on formula invariantly_inevitably_eat.mcf with algorithm NAIVE.\n",
      "20:26:37:INFO:Checking system dining_4.aut on formula invariantly_inevitably_eat.mcf with algorithm EMERSON_LEI.\n",
      "20:26:37:INFO:Checking system dining_4.aut on formula invariantly_plato_starves.mcf with algorithm NAIVE.\n",
      "20:26:37:INFO:Checking system dining_4.aut on formula invariantly_plato_starves.mcf with algorithm EMERSON_LEI.\n",
      "20:26:37:INFO:Checking system dining_4.aut on formula invariantly_possibly_eat.mcf with algorithm NAIVE.\n",
      "20:26:37:INFO:Checking system dining_4.aut on formula invariantly_possibly_eat.mcf with algorithm EMERSON_LEI.\n",
      "20:26:37:INFO:Checking system dining_4.aut on formula plato_infinitely_often_can_eat.mcf with algorithm NAIVE.\n",
      "20:26:37:INFO:Checking system dining_4.aut on formula plato_infinitely_often_can_eat.mcf with algorithm EMERSON_LEI.\n",
      "20:26:37:INFO:Checking system dining_5.aut on formula invariantly_inevitably_eat.mcf with algorithm NAIVE.\n",
      "20:26:37:INFO:Checking system dining_5.aut on formula invariantly_inevitably_eat.mcf with algorithm EMERSON_LEI.\n",
      "20:26:38:INFO:Checking system dining_5.aut on formula invariantly_plato_starves.mcf with algorithm NAIVE.\n",
      "20:26:38:INFO:Checking system dining_5.aut on formula invariantly_plato_starves.mcf with algorithm EMERSON_LEI.\n",
      "20:26:38:INFO:Checking system dining_5.aut on formula invariantly_possibly_eat.mcf with algorithm NAIVE.\n",
      "20:26:38:INFO:Checking system dining_5.aut on formula invariantly_possibly_eat.mcf with algorithm EMERSON_LEI.\n",
      "20:26:39:INFO:Checking system dining_5.aut on formula plato_infinitely_often_can_eat.mcf with algorithm NAIVE.\n",
      "20:26:39:INFO:Checking system dining_5.aut on formula plato_infinitely_often_can_eat.mcf with algorithm EMERSON_LEI.\n",
      "20:26:39:INFO:Checking system dining_6.aut on formula invariantly_inevitably_eat.mcf with algorithm NAIVE.\n",
      "20:26:39:INFO:Checking system dining_6.aut on formula invariantly_inevitably_eat.mcf with algorithm EMERSON_LEI.\n",
      "20:26:40:INFO:Checking system dining_6.aut on formula invariantly_plato_starves.mcf with algorithm NAIVE.\n",
      "20:26:40:INFO:Checking system dining_6.aut on formula invariantly_plato_starves.mcf with algorithm EMERSON_LEI.\n",
      "20:26:40:INFO:Checking system dining_6.aut on formula invariantly_possibly_eat.mcf with algorithm NAIVE.\n",
      "20:26:43:INFO:Checking system dining_6.aut on formula invariantly_possibly_eat.mcf with algorithm EMERSON_LEI.\n",
      "20:26:46:INFO:Checking system dining_6.aut on formula plato_infinitely_often_can_eat.mcf with algorithm NAIVE.\n",
      "20:26:46:INFO:Checking system dining_6.aut on formula plato_infinitely_often_can_eat.mcf with algorithm EMERSON_LEI.\n",
      "20:26:47:INFO:Checking system dining_7.aut on formula invariantly_inevitably_eat.mcf with algorithm NAIVE.\n",
      "20:26:49:INFO:Checking system dining_7.aut on formula invariantly_inevitably_eat.mcf with algorithm EMERSON_LEI.\n",
      "20:26:51:INFO:Checking system dining_7.aut on formula invariantly_plato_starves.mcf with algorithm NAIVE.\n",
      "20:26:53:INFO:Checking system dining_7.aut on formula invariantly_plato_starves.mcf with algorithm EMERSON_LEI.\n",
      "20:26:54:INFO:Checking system dining_7.aut on formula invariantly_possibly_eat.mcf with algorithm NAIVE.\n",
      "20:27:08:INFO:Checking system dining_7.aut on formula invariantly_possibly_eat.mcf with algorithm EMERSON_LEI.\n",
      "20:27:23:INFO:Checking system dining_7.aut on formula plato_infinitely_often_can_eat.mcf with algorithm NAIVE.\n",
      "20:27:24:INFO:Checking system dining_7.aut on formula plato_infinitely_often_can_eat.mcf with algorithm EMERSON_LEI.\n",
      "20:27:26:INFO:Checking system dining_8.aut on formula invariantly_inevitably_eat.mcf with algorithm NAIVE.\n",
      "20:27:38:INFO:Checking system dining_8.aut on formula invariantly_inevitably_eat.mcf with algorithm EMERSON_LEI.\n",
      "20:27:50:INFO:Checking system dining_8.aut on formula invariantly_plato_starves.mcf with algorithm NAIVE.\n",
      "20:28:00:INFO:Checking system dining_8.aut on formula invariantly_plato_starves.mcf with algorithm EMERSON_LEI.\n",
      "20:28:04:INFO:Checking system dining_8.aut on formula invariantly_possibly_eat.mcf with algorithm NAIVE.\n",
      "20:29:28:INFO:Checking system dining_8.aut on formula invariantly_possibly_eat.mcf with algorithm EMERSON_LEI.\n",
      "20:30:59:INFO:Checking system dining_8.aut on formula plato_infinitely_often_can_eat.mcf with algorithm NAIVE.\n",
      "20:31:08:INFO:Checking system dining_8.aut on formula plato_infinitely_often_can_eat.mcf with algorithm EMERSON_LEI.\n",
      "20:31:15:INFO:Checking system dining_9.aut on formula invariantly_inevitably_eat.mcf with algorithm NAIVE.\n",
      "20:32:15:INFO:Checking system dining_9.aut on formula invariantly_inevitably_eat.mcf with algorithm EMERSON_LEI.\n",
      "20:33:12:INFO:Checking system dining_9.aut on formula invariantly_plato_starves.mcf with algorithm NAIVE.\n",
      "20:34:10:INFO:Checking system dining_9.aut on formula invariantly_plato_starves.mcf with algorithm EMERSON_LEI.\n",
      "20:34:35:INFO:Checking system dining_9.aut on formula invariantly_possibly_eat.mcf with algorithm NAIVE.\n",
      "20:41:22:INFO:Checking system dining_9.aut on formula invariantly_possibly_eat.mcf with algorithm EMERSON_LEI.\n",
      "20:47:59:INFO:Checking system dining_9.aut on formula plato_infinitely_often_can_eat.mcf with algorithm NAIVE.\n",
      "20:48:30:INFO:Checking system dining_9.aut on formula plato_infinitely_often_can_eat.mcf with algorithm EMERSON_LEI.\n",
      "20:49:01:INFO:Checking system dining_10.aut on formula invariantly_inevitably_eat.mcf with algorithm NAIVE.\n",
      "20:54:33:INFO:Checking system dining_10.aut on formula invariantly_inevitably_eat.mcf with algorithm EMERSON_LEI.\n",
      "21:00:55:INFO:Checking system dining_10.aut on formula invariantly_plato_starves.mcf with algorithm NAIVE.\n",
      "21:05:01:INFO:Checking system dining_10.aut on formula invariantly_plato_starves.mcf with algorithm EMERSON_LEI.\n",
      "21:07:02:INFO:Checking system dining_10.aut on formula invariantly_possibly_eat.mcf with algorithm NAIVE.\n",
      "21:40:01:INFO:Checking system dining_10.aut on formula invariantly_possibly_eat.mcf with algorithm EMERSON_LEI.\n",
      "22:08:44:INFO:Checking system dining_10.aut on formula plato_infinitely_often_can_eat.mcf with algorithm NAIVE.\n",
      "22:10:46:INFO:Checking system dining_10.aut on formula plato_infinitely_often_can_eat.mcf with algorithm EMERSON_LEI.\n"
     ]
    }
   ],
   "source": [
    "statistics = []\n",
    "\n",
    "for system_name, system in sorted(systems.items(), key=lambda x: int(x[0].split(\"_\")[1].split(\".\")[0])):\n",
    "    for formula_name, formula in formulas.items():\n",
    "        for algorithm in Checker.Algorithm:\n",
    "            logging.info(\"Checking system %s on formula %s with algorithm %s.\" % (system_name, formula_name, algorithm.name))\n",
    "\n",
    "            with yappi.run():\n",
    "                satisfied, _, ifp = Checker.solver(system, formula, algorithm)\n",
    "\n",
    "            ttot = yappi.get_func_stats(filter_callback=lambda x: yappi.func_matches(x, [Checker.solver]))[0].ttot\n",
    "\n",
    "            statistics.append((system_name, formula_name, algorithm.name, satisfied, ifp, ttot))"
   ]
  },
  {
   "cell_type": "code",
   "execution_count": 6,
   "metadata": {},
   "outputs": [],
   "source": [
    "df = DataFrame(statistics, columns = [\"System\", \"Formula\", \"Algorithm\", \"satisfied\", \"ifp\", \"ttot\"])"
   ]
  },
  {
   "cell_type": "code",
   "execution_count": 17,
   "metadata": {},
   "outputs": [],
   "source": [
    "# Print profiling results\n",
    "df"
   ]
  },
  {
   "cell_type": "code",
   "execution_count": 18,
   "metadata": {},
   "outputs": [],
   "source": [
    "# Save data frame\n",
    "df.to_csv(results_path)"
   ]
  }
 ],
 "metadata": {
  "kernelspec": {
   "display_name": "Python 3.10.6 ('.venv': venv)",
   "language": "python",
   "name": "python3"
  },
  "language_info": {
   "codemirror_mode": {
    "name": "ipython",
    "version": 3
   },
   "file_extension": ".py",
   "mimetype": "text/x-python",
   "name": "python",
   "nbconvert_exporter": "python",
   "pygments_lexer": "ipython3",
   "version": "3.10.6"
  },
  "orig_nbformat": 4,
  "vscode": {
   "interpreter": {
    "hash": "62f450e815ce66e1e44933bf2b1131b06929dc280f9e1ca3027de4434b000a7c"
   }
  }
 },
 "nbformat": 4,
 "nbformat_minor": 2
}
