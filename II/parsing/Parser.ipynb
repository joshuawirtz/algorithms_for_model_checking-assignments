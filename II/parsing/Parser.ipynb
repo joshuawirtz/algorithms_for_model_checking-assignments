{
 "cells": [
  {
   "cell_type": "code",
   "execution_count": 1,
   "metadata": {},
   "outputs": [],
   "source": [
    "from lark import Lark"
   ]
  },
  {
   "cell_type": "code",
   "execution_count": 2,
   "metadata": {},
   "outputs": [
    {
     "data": {
      "text/plain": [
       "Tree(Token('RULE', 'start'), [Token('IDENTIFIER', '22'), Tree(Token('RULE', 'node_spec'), [Token('IDENTIFIER', '0'), Token('PRIORITY', '0'), Token('OWNER', '1'), Tree(Token('RULE', 'successors'), [Token('IDENTIFIER', '1')]), None]), Tree(Token('RULE', 'node_spec'), [Token('IDENTIFIER', '1'), Token('PRIORITY', '0'), Token('OWNER', '1'), Tree(Token('RULE', 'successors'), [Token('IDENTIFIER', '2'), Token('IDENTIFIER', '3'), Token('IDENTIFIER', '11')]), None]), Tree(Token('RULE', 'node_spec'), [Token('IDENTIFIER', '2'), Token('PRIORITY', '0'), Token('OWNER', '1'), Tree(Token('RULE', 'successors'), [Token('IDENTIFIER', '4'), Token('IDENTIFIER', '5'), Token('IDENTIFIER', '12')]), None]), Tree(Token('RULE', 'node_spec'), [Token('IDENTIFIER', '3'), Token('PRIORITY', '0'), Token('OWNER', '1'), Tree(Token('RULE', 'successors'), [Token('IDENTIFIER', '5'), Token('IDENTIFIER', '6'), Token('IDENTIFIER', '13')]), None]), Tree(Token('RULE', 'node_spec'), [Token('IDENTIFIER', '4'), Token('PRIORITY', '0'), Token('OWNER', '1'), Tree(Token('RULE', 'successors'), [Token('IDENTIFIER', '7'), Token('IDENTIFIER', '14')]), None]), Tree(Token('RULE', 'node_spec'), [Token('IDENTIFIER', '5'), Token('PRIORITY', '0'), Token('OWNER', '1'), Tree(Token('RULE', 'successors'), [Token('IDENTIFIER', '15')]), None]), Tree(Token('RULE', 'node_spec'), [Token('IDENTIFIER', '6'), Token('PRIORITY', '0'), Token('OWNER', '1'), Tree(Token('RULE', 'successors'), [Token('IDENTIFIER', '8'), Token('IDENTIFIER', '16')]), None]), Tree(Token('RULE', 'node_spec'), [Token('IDENTIFIER', '7'), Token('PRIORITY', '0'), Token('OWNER', '1'), Tree(Token('RULE', 'successors'), [Token('IDENTIFIER', '9'), Token('IDENTIFIER', '17')]), None]), Tree(Token('RULE', 'node_spec'), [Token('IDENTIFIER', '8'), Token('PRIORITY', '0'), Token('OWNER', '1'), Tree(Token('RULE', 'successors'), [Token('IDENTIFIER', '10'), Token('IDENTIFIER', '18')]), None]), Tree(Token('RULE', 'node_spec'), [Token('IDENTIFIER', '9'), Token('PRIORITY', '0'), Token('OWNER', '1'), Tree(Token('RULE', 'successors'), [Token('IDENTIFIER', '1'), Token('IDENTIFIER', '19')]), None]), Tree(Token('RULE', 'node_spec'), [Token('IDENTIFIER', '10'), Token('PRIORITY', '0'), Token('OWNER', '1'), Tree(Token('RULE', 'successors'), [Token('IDENTIFIER', '1'), Token('IDENTIFIER', '20')]), None]), Tree(Token('RULE', 'node_spec'), [Token('IDENTIFIER', '11'), Token('PRIORITY', '1'), Token('OWNER', '0'), Tree(Token('RULE', 'successors'), [Token('IDENTIFIER', '22')]), None]), Tree(Token('RULE', 'node_spec'), [Token('IDENTIFIER', '12'), Token('PRIORITY', '1'), Token('OWNER', '0'), Tree(Token('RULE', 'successors'), [Token('IDENTIFIER', '22')]), None]), Tree(Token('RULE', 'node_spec'), [Token('IDENTIFIER', '13'), Token('PRIORITY', '1'), Token('OWNER', '0'), Tree(Token('RULE', 'successors'), [Token('IDENTIFIER', '22')]), None]), Tree(Token('RULE', 'node_spec'), [Token('IDENTIFIER', '14'), Token('PRIORITY', '1'), Token('OWNER', '0'), Tree(Token('RULE', 'successors'), [Token('IDENTIFIER', '21')]), None]), Tree(Token('RULE', 'node_spec'), [Token('IDENTIFIER', '15'), Token('PRIORITY', '1'), Token('OWNER', '0'), Tree(Token('RULE', 'successors'), [Token('IDENTIFIER', '22')]), None]), Tree(Token('RULE', 'node_spec'), [Token('IDENTIFIER', '16'), Token('PRIORITY', '1'), Token('OWNER', '0'), Tree(Token('RULE', 'successors'), [Token('IDENTIFIER', '21')]), None]), Tree(Token('RULE', 'node_spec'), [Token('IDENTIFIER', '17'), Token('PRIORITY', '1'), Token('OWNER', '0'), Tree(Token('RULE', 'successors'), [Token('IDENTIFIER', '22')]), None]), Tree(Token('RULE', 'node_spec'), [Token('IDENTIFIER', '18'), Token('PRIORITY', '1'), Token('OWNER', '0'), Tree(Token('RULE', 'successors'), [Token('IDENTIFIER', '22')]), None]), Tree(Token('RULE', 'node_spec'), [Token('IDENTIFIER', '19'), Token('PRIORITY', '1'), Token('OWNER', '0'), Tree(Token('RULE', 'successors'), [Token('IDENTIFIER', '22')]), None]), Tree(Token('RULE', 'node_spec'), [Token('IDENTIFIER', '20'), Token('PRIORITY', '1'), Token('OWNER', '0'), Tree(Token('RULE', 'successors'), [Token('IDENTIFIER', '22')]), None]), Tree(Token('RULE', 'node_spec'), [Token('IDENTIFIER', '21'), Token('PRIORITY', '2'), Token('OWNER', '0'), Tree(Token('RULE', 'successors'), [Token('IDENTIFIER', '21')]), None]), Tree(Token('RULE', 'node_spec'), [Token('IDENTIFIER', '22'), Token('PRIORITY', '3'), Token('OWNER', '0'), Tree(Token('RULE', 'successors'), [Token('IDENTIFIER', '22')]), None])])"
      ]
     },
     "execution_count": 2,
     "metadata": {},
     "output_type": "execute_result"
    }
   ],
   "source": [
    "parser = Lark.open(\"grammars/gm.lark\", parser=\"lalr\")\n",
    "\n",
    "parser.parse(open(\"../material/dining_games/dining_2.invariantly_inevitably_eat.gm\").read())"
   ]
  },
  {
   "cell_type": "code",
   "execution_count": null,
   "metadata": {},
   "outputs": [],
   "source": []
  }
 ],
 "metadata": {
  "kernelspec": {
   "display_name": ".venv",
   "language": "python",
   "name": "python3"
  },
  "language_info": {
   "codemirror_mode": {
    "name": "ipython",
    "version": 3
   },
   "file_extension": ".py",
   "mimetype": "text/x-python",
   "name": "python",
   "nbconvert_exporter": "python",
   "pygments_lexer": "ipython3",
   "version": "3.10.6"
  },
  "orig_nbformat": 4,
  "vscode": {
   "interpreter": {
    "hash": "1913bb674461772e87c69cfccade90c7cff94b6b18f0c1dbb4a3cc791f5313c1"
   }
  }
 },
 "nbformat": 4,
 "nbformat_minor": 2
}
