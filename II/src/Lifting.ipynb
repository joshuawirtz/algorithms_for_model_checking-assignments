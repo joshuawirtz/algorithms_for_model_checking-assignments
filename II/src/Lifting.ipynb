{
 "cells": [
  {
   "cell_type": "code",
   "execution_count": null,
   "metadata": {},
   "outputs": [],
   "source": [
    "from pathlib import Path\n",
    "\n",
    "from Lifting import *\n",
    "from parsing.Parser import parse_gm "
   ]
  },
  {
   "cell_type": "code",
   "execution_count": null,
   "metadata": {},
   "outputs": [],
   "source": [
    "game = parse_gm(Path(\"../material/dining_games/dining_2.invariantly_inevitably_eat.gm\"))\n",
    "game"
   ]
  },
  {
   "cell_type": "code",
   "execution_count": null,
   "metadata": {},
   "outputs": [],
   "source": [
    "lifting = RandomLifting(game, 20)\n",
    "for vertex in lifting:\n",
    "    print(vertex)"
   ]
  },
  {
   "cell_type": "code",
   "execution_count": null,
   "metadata": {},
   "outputs": [],
   "source": []
  }
 ],
 "metadata": {
  "kernelspec": {
   "display_name": ".venv",
   "language": "python",
   "name": "python3"
  },
  "language_info": {
   "codemirror_mode": {
    "name": "ipython",
    "version": 3
   },
   "file_extension": ".py",
   "mimetype": "text/x-python",
   "name": "python",
   "nbconvert_exporter": "python",
   "pygments_lexer": "ipython3",
   "version": "3.10.6"
  },
  "orig_nbformat": 4,
  "vscode": {
   "interpreter": {
    "hash": "1913bb674461772e87c69cfccade90c7cff94b6b18f0c1dbb4a3cc791f5313c1"
   }
  }
 },
 "nbformat": 4,
 "nbformat_minor": 2
}
