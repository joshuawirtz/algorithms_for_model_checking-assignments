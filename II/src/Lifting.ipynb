{
 "cells": [
  {
   "cell_type": "code",
   "execution_count": 1,
   "metadata": {},
   "outputs": [],
   "source": [
    "from pathlib import Path\n",
    "\n",
    "from Lifting import *\n",
    "from parsing.Parser import parse_gm "
   ]
  },
  {
   "cell_type": "code",
   "execution_count": 5,
   "metadata": {},
   "outputs": [
    {
     "data": {
      "text/plain": [
       "{'vertices': [{'identifier': 0, 'priority:': 0, 'owner': <Owner.ODD: 1>, 'successors': [1], 'name': None}, {'identifier': 1, 'priority:': 0, 'owner': <Owner.ODD: 1>, 'successors': [2, 3, 11], 'name': None}, {'identifier': 2, 'priority:': 0, 'owner': <Owner.ODD: 1>, 'successors': [4, 5, 12], 'name': None}, {'identifier': 3, 'priority:': 0, 'owner': <Owner.ODD: 1>, 'successors': [5, 6, 13], 'name': None}, {'identifier': 4, 'priority:': 0, 'owner': <Owner.ODD: 1>, 'successors': [7, 14], 'name': None}, {'identifier': 5, 'priority:': 0, 'owner': <Owner.ODD: 1>, 'successors': [15], 'name': None}, {'identifier': 6, 'priority:': 0, 'owner': <Owner.ODD: 1>, 'successors': [8, 16], 'name': None}, {'identifier': 7, 'priority:': 0, 'owner': <Owner.ODD: 1>, 'successors': [9, 17], 'name': None}, {'identifier': 8, 'priority:': 0, 'owner': <Owner.ODD: 1>, 'successors': [10, 18], 'name': None}, {'identifier': 9, 'priority:': 0, 'owner': <Owner.ODD: 1>, 'successors': [1, 19], 'name': None}, {'identifier': 10, 'priority:': 0, 'owner': <Owner.ODD: 1>, 'successors': [1, 20], 'name': None}, {'identifier': 11, 'priority:': 1, 'owner': <Owner.EVEN: 0>, 'successors': [22], 'name': None}, {'identifier': 12, 'priority:': 1, 'owner': <Owner.EVEN: 0>, 'successors': [22], 'name': None}, {'identifier': 13, 'priority:': 1, 'owner': <Owner.EVEN: 0>, 'successors': [22], 'name': None}, {'identifier': 14, 'priority:': 1, 'owner': <Owner.EVEN: 0>, 'successors': [21], 'name': None}, {'identifier': 15, 'priority:': 1, 'owner': <Owner.EVEN: 0>, 'successors': [22], 'name': None}, {'identifier': 16, 'priority:': 1, 'owner': <Owner.EVEN: 0>, 'successors': [21], 'name': None}, {'identifier': 17, 'priority:': 1, 'owner': <Owner.EVEN: 0>, 'successors': [22], 'name': None}, {'identifier': 18, 'priority:': 1, 'owner': <Owner.EVEN: 0>, 'successors': [22], 'name': None}, {'identifier': 19, 'priority:': 1, 'owner': <Owner.EVEN: 0>, 'successors': [22], 'name': None}, {'identifier': 20, 'priority:': 1, 'owner': <Owner.EVEN: 0>, 'successors': [22], 'name': None}, {'identifier': 21, 'priority:': 2, 'owner': <Owner.EVEN: 0>, 'successors': [21], 'name': None}, {'identifier': 22, 'priority:': 3, 'owner': <Owner.EVEN: 0>, 'successors': [22], 'name': None}]}"
      ]
     },
     "execution_count": 5,
     "metadata": {},
     "output_type": "execute_result"
    }
   ],
   "source": [
    "game = parse_gm(Path(\"../material/dining_games/dining_2.invariantly_inevitably_eat.gm\"))\n",
    "game"
   ]
  },
  {
   "cell_type": "code",
   "execution_count": 15,
   "metadata": {},
   "outputs": [
    {
     "name": "stdout",
     "output_type": "stream",
     "text": [
      "{'identifier': 12, 'priority:': 1, 'owner': <Owner.EVEN: 0>, 'successors': [22], 'name': None}\n",
      "{'identifier': 10, 'priority:': 0, 'owner': <Owner.ODD: 1>, 'successors': [1, 20], 'name': None}\n",
      "{'identifier': 2, 'priority:': 0, 'owner': <Owner.ODD: 1>, 'successors': [4, 5, 12], 'name': None}\n",
      "{'identifier': 8, 'priority:': 0, 'owner': <Owner.ODD: 1>, 'successors': [10, 18], 'name': None}\n",
      "{'identifier': 4, 'priority:': 0, 'owner': <Owner.ODD: 1>, 'successors': [7, 14], 'name': None}\n",
      "{'identifier': 13, 'priority:': 1, 'owner': <Owner.EVEN: 0>, 'successors': [22], 'name': None}\n",
      "{'identifier': 15, 'priority:': 1, 'owner': <Owner.EVEN: 0>, 'successors': [22], 'name': None}\n",
      "{'identifier': 19, 'priority:': 1, 'owner': <Owner.EVEN: 0>, 'successors': [22], 'name': None}\n",
      "{'identifier': 20, 'priority:': 1, 'owner': <Owner.EVEN: 0>, 'successors': [22], 'name': None}\n",
      "{'identifier': 7, 'priority:': 0, 'owner': <Owner.ODD: 1>, 'successors': [9, 17], 'name': None}\n",
      "{'identifier': 0, 'priority:': 0, 'owner': <Owner.ODD: 1>, 'successors': [1], 'name': None}\n",
      "{'identifier': 16, 'priority:': 1, 'owner': <Owner.EVEN: 0>, 'successors': [21], 'name': None}\n",
      "{'identifier': 5, 'priority:': 0, 'owner': <Owner.ODD: 1>, 'successors': [15], 'name': None}\n",
      "{'identifier': 17, 'priority:': 1, 'owner': <Owner.EVEN: 0>, 'successors': [22], 'name': None}\n",
      "{'identifier': 3, 'priority:': 0, 'owner': <Owner.ODD: 1>, 'successors': [5, 6, 13], 'name': None}\n",
      "{'identifier': 6, 'priority:': 0, 'owner': <Owner.ODD: 1>, 'successors': [8, 16], 'name': None}\n",
      "{'identifier': 22, 'priority:': 3, 'owner': <Owner.EVEN: 0>, 'successors': [22], 'name': None}\n",
      "{'identifier': 18, 'priority:': 1, 'owner': <Owner.EVEN: 0>, 'successors': [22], 'name': None}\n",
      "{'identifier': 1, 'priority:': 0, 'owner': <Owner.ODD: 1>, 'successors': [2, 3, 11], 'name': None}\n",
      "{'identifier': 11, 'priority:': 1, 'owner': <Owner.EVEN: 0>, 'successors': [22], 'name': None}\n",
      "{'identifier': 9, 'priority:': 0, 'owner': <Owner.ODD: 1>, 'successors': [1, 19], 'name': None}\n",
      "{'identifier': 21, 'priority:': 2, 'owner': <Owner.EVEN: 0>, 'successors': [21], 'name': None}\n",
      "{'identifier': 14, 'priority:': 1, 'owner': <Owner.EVEN: 0>, 'successors': [21], 'name': None}\n"
     ]
    }
   ],
   "source": [
    "lifting = RandomLifting(game)\n",
    "for vertex in lifting:\n",
    "    print(vertex)"
   ]
  },
  {
   "cell_type": "code",
   "execution_count": null,
   "metadata": {},
   "outputs": [],
   "source": []
  }
 ],
 "metadata": {
  "kernelspec": {
   "display_name": ".venv",
   "language": "python",
   "name": "python3"
  },
  "language_info": {
   "codemirror_mode": {
    "name": "ipython",
    "version": 3
   },
   "file_extension": ".py",
   "mimetype": "text/x-python",
   "name": "python",
   "nbconvert_exporter": "python",
   "pygments_lexer": "ipython3",
   "version": "3.10.6"
  },
  "orig_nbformat": 4,
  "vscode": {
   "interpreter": {
    "hash": "1913bb674461772e87c69cfccade90c7cff94b6b18f0c1dbb4a3cc791f5313c1"
   }
  }
 },
 "nbformat": 4,
 "nbformat_minor": 2
}
