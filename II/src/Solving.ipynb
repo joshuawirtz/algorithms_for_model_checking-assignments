{
 "cells": [
  {
   "cell_type": "code",
   "execution_count": 9,
   "metadata": {},
   "outputs": [],
   "source": [
    "from pathlib import Path\n",
    "\n",
    "from Lifting import *\n",
    "from parsing.Parser import parse_gm\n",
    "from Solver import solve_game"
   ]
  },
  {
   "cell_type": "code",
   "execution_count": 10,
   "metadata": {},
   "outputs": [],
   "source": [
    "game = parse_gm(Path(\"../material/dining_games/dining_2.invariantly_inevitably_eat.gm\"))\n",
    "lifting_order = InputLifting(game)"
   ]
  },
  {
   "cell_type": "code",
   "execution_count": 11,
   "metadata": {},
   "outputs": [
    {
     "data": {
      "text/plain": [
       "{0: [1, 1, 1, 1],\n",
       " 1: [1, 1, 1, 1],\n",
       " 2: [1, 1, 1, 1],\n",
       " 3: [1, 1, 1, 1],\n",
       " 4: [1, 1, 1, 1],\n",
       " 5: [1, 1, 1, 1],\n",
       " 6: [1, 1, 1, 1],\n",
       " 7: [1, 1, 1, 1],\n",
       " 8: [1, 1, 1, 1],\n",
       " 9: [1, 1, 1, 1],\n",
       " 10: [1, 1, 1, 1],\n",
       " 11: [1, 1, 1, 1],\n",
       " 12: [1, 1, 1, 1],\n",
       " 13: [1, 1, 1, 1],\n",
       " 14: [0, 1, 0, 0],\n",
       " 15: [1, 1, 1, 1],\n",
       " 16: [0, 1, 0, 0],\n",
       " 17: [1, 1, 1, 1],\n",
       " 18: [1, 1, 1, 1],\n",
       " 19: [1, 1, 1, 1],\n",
       " 20: [1, 1, 1, 1],\n",
       " 21: [0, 0, 0, 0],\n",
       " 22: [1, 1, 1, 1]}"
      ]
     },
     "execution_count": 11,
     "metadata": {},
     "output_type": "execute_result"
    }
   ],
   "source": [
    "solve_game(game, lifting_order)"
   ]
  }
 ],
 "metadata": {
  "kernelspec": {
   "display_name": ".venv",
   "language": "python",
   "name": "python3"
  },
  "language_info": {
   "codemirror_mode": {
    "name": "ipython",
    "version": 3
   },
   "file_extension": ".py",
   "mimetype": "text/x-python",
   "name": "python",
   "nbconvert_exporter": "python",
   "pygments_lexer": "ipython3",
   "version": "3.9.9"
  },
  "orig_nbformat": 4,
  "vscode": {
   "interpreter": {
    "hash": "d374840b079fd319d6578fcd453ac0a18abf01d931caa956cffab9cd279fa0ae"
   }
  }
 },
 "nbformat": 4,
 "nbformat_minor": 2
}
